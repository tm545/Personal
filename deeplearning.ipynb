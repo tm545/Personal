{
 "cells": [
  {
   "cell_type": "code",
   "execution_count": 60,
   "metadata": {},
   "outputs": [],
   "source": [
    "import Pkg\n",
    "using Flux\n",
    "using CSV, DataFrames\n",
    "using Flux: crossentropy, normalise, onecold, onehot, Params, gradient\n",
    "using Statistics: mean\n",
    "using Flux.Tracker, Statistics, DelimitedFiles\n",
    "using Flux.Tracker: Params, gradient, update!\n",
    "using DelimitedFiles, Statistics\n",
    "using Flux: gpu\n",
    "using LinearAlgebra"
   ]
  },
  {
   "cell_type": "code",
   "execution_count": 52,
   "metadata": {},
   "outputs": [
    {
     "data": {
      "text/html": [
       "<table class=\"data-frame\"><thead><tr><th></th><th>customer</th><th>income</th><th>mailer</th><th>x1</th></tr><tr><th></th><th>Int64</th><th>Int64</th><th>Int64</th><th>Float64</th></tr></thead><tbody><p>10,000 rows × 4 columns</p><tr><th>1</th><td>0</td><td>39</td><td>0</td><td>0.0</td></tr><tr><th>2</th><td>0</td><td>39</td><td>0</td><td>0.693147</td></tr><tr><th>3</th><td>0</td><td>39</td><td>1</td><td>0.693147</td></tr><tr><th>4</th><td>0</td><td>39</td><td>1</td><td>0.693147</td></tr><tr><th>5</th><td>0</td><td>39</td><td>0</td><td>1.09861</td></tr><tr><th>6</th><td>0</td><td>39</td><td>1</td><td>1.38629</td></tr><tr><th>7</th><td>0</td><td>39</td><td>0</td><td>1.38629</td></tr><tr><th>8</th><td>0</td><td>39</td><td>0</td><td>1.60944</td></tr><tr><th>9</th><td>0</td><td>39</td><td>0</td><td>1.79176</td></tr><tr><th>10</th><td>0</td><td>39</td><td>0</td><td>1.79176</td></tr><tr><th>11</th><td>0</td><td>39</td><td>1</td><td>1.79176</td></tr><tr><th>12</th><td>0</td><td>39</td><td>0</td><td>1.79176</td></tr><tr><th>13</th><td>0</td><td>39</td><td>0</td><td>1.79176</td></tr><tr><th>14</th><td>0</td><td>39</td><td>1</td><td>1.94591</td></tr><tr><th>15</th><td>0</td><td>39</td><td>0</td><td>2.07944</td></tr><tr><th>16</th><td>0</td><td>39</td><td>0</td><td>2.07944</td></tr><tr><th>17</th><td>0</td><td>39</td><td>0</td><td>2.19722</td></tr><tr><th>18</th><td>0</td><td>39</td><td>0</td><td>2.19722</td></tr><tr><th>19</th><td>0</td><td>39</td><td>0</td><td>2.30259</td></tr><tr><th>20</th><td>0</td><td>39</td><td>1</td><td>2.30259</td></tr><tr><th>21</th><td>0</td><td>39</td><td>0</td><td>2.30259</td></tr><tr><th>22</th><td>0</td><td>39</td><td>0</td><td>2.3979</td></tr><tr><th>23</th><td>0</td><td>39</td><td>0</td><td>2.48491</td></tr><tr><th>24</th><td>0</td><td>39</td><td>0</td><td>2.48491</td></tr><tr><th>25</th><td>0</td><td>39</td><td>0</td><td>2.48491</td></tr><tr><th>26</th><td>0</td><td>39</td><td>1</td><td>2.48491</td></tr><tr><th>27</th><td>0</td><td>39</td><td>0</td><td>2.56495</td></tr><tr><th>28</th><td>0</td><td>39</td><td>0</td><td>2.56495</td></tr><tr><th>29</th><td>0</td><td>39</td><td>1</td><td>2.56495</td></tr><tr><th>30</th><td>0</td><td>39</td><td>0</td><td>2.63906</td></tr><tr><th>&vellip;</th><td>&vellip;</td><td>&vellip;</td><td>&vellip;</td><td>&vellip;</td></tr></tbody></table>"
      ],
      "text/latex": [
       "\\begin{tabular}{r|cccc}\n",
       "\t& customer & income & mailer & x1\\\\\n",
       "\t\\hline\n",
       "\t& Int64 & Int64 & Int64 & Float64\\\\\n",
       "\t\\hline\n",
       "\t1 & 0 & 39 & 0 & 0.0 \\\\\n",
       "\t2 & 0 & 39 & 0 & 0.693147 \\\\\n",
       "\t3 & 0 & 39 & 1 & 0.693147 \\\\\n",
       "\t4 & 0 & 39 & 1 & 0.693147 \\\\\n",
       "\t5 & 0 & 39 & 0 & 1.09861 \\\\\n",
       "\t6 & 0 & 39 & 1 & 1.38629 \\\\\n",
       "\t7 & 0 & 39 & 0 & 1.38629 \\\\\n",
       "\t8 & 0 & 39 & 0 & 1.60944 \\\\\n",
       "\t9 & 0 & 39 & 0 & 1.79176 \\\\\n",
       "\t10 & 0 & 39 & 0 & 1.79176 \\\\\n",
       "\t11 & 0 & 39 & 1 & 1.79176 \\\\\n",
       "\t12 & 0 & 39 & 0 & 1.79176 \\\\\n",
       "\t13 & 0 & 39 & 0 & 1.79176 \\\\\n",
       "\t14 & 0 & 39 & 1 & 1.94591 \\\\\n",
       "\t15 & 0 & 39 & 0 & 2.07944 \\\\\n",
       "\t16 & 0 & 39 & 0 & 2.07944 \\\\\n",
       "\t17 & 0 & 39 & 0 & 2.19722 \\\\\n",
       "\t18 & 0 & 39 & 0 & 2.19722 \\\\\n",
       "\t19 & 0 & 39 & 0 & 2.30259 \\\\\n",
       "\t20 & 0 & 39 & 1 & 2.30259 \\\\\n",
       "\t21 & 0 & 39 & 0 & 2.30259 \\\\\n",
       "\t22 & 0 & 39 & 0 & 2.3979 \\\\\n",
       "\t23 & 0 & 39 & 0 & 2.48491 \\\\\n",
       "\t24 & 0 & 39 & 0 & 2.48491 \\\\\n",
       "\t25 & 0 & 39 & 0 & 2.48491 \\\\\n",
       "\t26 & 0 & 39 & 1 & 2.48491 \\\\\n",
       "\t27 & 0 & 39 & 0 & 2.56495 \\\\\n",
       "\t28 & 0 & 39 & 0 & 2.56495 \\\\\n",
       "\t29 & 0 & 39 & 1 & 2.56495 \\\\\n",
       "\t30 & 0 & 39 & 0 & 2.63906 \\\\\n",
       "\t$\\dots$ & $\\dots$ & $\\dots$ & $\\dots$ & $\\dots$ \\\\\n",
       "\\end{tabular}\n"
      ],
      "text/plain": [
       "10000×4 DataFrame\n",
       "│ Row   │ customer │ income │ mailer │ x1       │\n",
       "│       │ \u001b[90mInt64\u001b[39m    │ \u001b[90mInt64\u001b[39m  │ \u001b[90mInt64\u001b[39m  │ \u001b[90mFloat64\u001b[39m  │\n",
       "├───────┼──────────┼────────┼────────┼──────────┤\n",
       "│ 1     │ 0        │ 39     │ 0      │ 0.0      │\n",
       "│ 2     │ 0        │ 39     │ 0      │ 0.693147 │\n",
       "│ 3     │ 0        │ 39     │ 1      │ 0.693147 │\n",
       "│ 4     │ 0        │ 39     │ 1      │ 0.693147 │\n",
       "│ 5     │ 0        │ 39     │ 0      │ 1.09861  │\n",
       "│ 6     │ 0        │ 39     │ 1      │ 1.38629  │\n",
       "│ 7     │ 0        │ 39     │ 0      │ 1.38629  │\n",
       "│ 8     │ 0        │ 39     │ 0      │ 1.60944  │\n",
       "│ 9     │ 0        │ 39     │ 0      │ 1.79176  │\n",
       "│ 10    │ 0        │ 39     │ 0      │ 1.79176  │\n",
       "⋮\n",
       "│ 9990  │ 199      │ 30     │ 0      │ 2.94444  │\n",
       "│ 9991  │ 199      │ 30     │ 1      │ 2.94444  │\n",
       "│ 9992  │ 199      │ 30     │ 0      │ 2.94444  │\n",
       "│ 9993  │ 199      │ 30     │ 0      │ 2.94444  │\n",
       "│ 9994  │ 199      │ 30     │ 0      │ 2.99573  │\n",
       "│ 9995  │ 199      │ 30     │ 0      │ 2.99573  │\n",
       "│ 9996  │ 199      │ 30     │ 0      │ 3.04452  │\n",
       "│ 9997  │ 199      │ 30     │ 0      │ 3.04452  │\n",
       "│ 9998  │ 199      │ 30     │ 0      │ 3.09104  │\n",
       "│ 9999  │ 199      │ 30     │ 0      │ 3.13549  │\n",
       "│ 10000 │ 199      │ 30     │ 0      │ 3.17805  │"
      ]
     },
     "execution_count": 52,
     "metadata": {},
     "output_type": "execute_result"
    }
   ],
   "source": [
    "data = DataFrame(CSV.File(\"C:\\\\Users\\\\tigra\\\\Documents\\\\NBA 4920\\\\Project_train.csv\"))\n",
    "labels = data[:,4]\n",
    "features = data[:,1:3]\n",
    "features = hcat(features, data[:,5])\n",
    "#labels = onehot(:1, labels)"
   ]
  },
  {
   "cell_type": "code",
   "execution_count": 68,
   "metadata": {},
   "outputs": [
    {
     "data": {
      "text/plain": [
       "2000-element Array{Int64,1}:\n",
       " 0\n",
       " 0\n",
       " 0\n",
       " 0\n",
       " 0\n",
       " 1\n",
       " 1\n",
       " 0\n",
       " 0\n",
       " 1\n",
       " 0\n",
       " 0\n",
       " 0\n",
       " ⋮\n",
       " 0\n",
       " 0\n",
       " 0\n",
       " 0\n",
       " 1\n",
       " 0\n",
       " 1\n",
       " 1\n",
       " 0\n",
       " 0\n",
       " 0\n",
       " 0"
      ]
     },
     "execution_count": 68,
     "metadata": {},
     "output_type": "execute_result"
    }
   ],
   "source": [
    "features = convert(Matrix, features)\n",
    "\n",
    "# Subract mean, divide by std dev for normed mean of 0 and std dev of 1.\n",
    "normed_features = normalise(features)\n",
    "#labels\n",
    "normed_features = transpose(normed_features)\n",
    "#klasses = sort(unique(labels))\n",
    "#onehot_labels = onehotbatch(labels, klasses)\n",
    "\n",
    "\n",
    "# Split into training and test sets, 2/3 for training, 1/3 for test.\n",
    "\n",
    "x_train = normed_features[1:4, 1:8000]\n",
    "y_train = labels[1:8000]\n",
    "#y_train = transpose(y_train)\n",
    "\n",
    "x_test = normed_features[1:4, 8001:10000]\n",
    "y_test = labels[8001:10000]\n"
   ]
  },
  {
   "cell_type": "code",
   "execution_count": 79,
   "metadata": {},
   "outputs": [
    {
     "data": {
      "text/plain": [
       "1.5653896868254775e6 (tracked)"
      ]
     },
     "execution_count": 79,
     "metadata": {},
     "output_type": "execute_result"
    }
   ],
   "source": [
    "W = param(randn(1,4)/10)\n",
    "b = param([0.])\n",
    "\n",
    "predict(x) = W*x .+ b\n",
    "meansquarederror(ŷ, y) = sum((ŷ .- y).^2)/size(y, 2)\n",
    "loss(x, y,i) = meansquarederror(predict(x[i]), y[i])\n",
    "\n",
    "η = 0.1\n",
    "θ = Params([W, b])\n",
    "\n",
    "for i = 1:50\n",
    "  g = gradient(() -> loss(x_train, y_train,i), θ)\n",
    "  for x in θ\n",
    "    update!(x, -g[x]*η)\n",
    "  end\n",
    "  #@show loss(x_train, y_train)\n",
    "end\n",
    "\n",
    "# Predict the RMSE on the test set\n",
    "err = meansquarederror(predict(x_test),y_test)"
   ]
  },
  {
   "cell_type": "code",
   "execution_count": 89,
   "metadata": {},
   "outputs": [
    {
     "data": {
      "text/plain": [
       "Tracked 1×1250 Array{Float64,2}:\n",
       " 2.21416  2.21355  2.21294  2.21233  …  -0.440888  -0.459714  -0.460325"
      ]
     },
     "execution_count": 89,
     "metadata": {},
     "output_type": "execute_result"
    }
   ],
   "source": [
    "data1 = DataFrame(CSV.File(\"C:\\\\Users\\\\tigra\\\\Documents\\\\NBA 4920\\\\Project_test.csv\"))\n",
    "features1 = data1[:,1:3]\n",
    "features1 = hcat(features1, data1[:,5])\n",
    "features1 = convert(Matrix, features1)\n",
    "\n",
    "# Subract mean, divide by std dev for normed mean of 0 and std dev of 1.\n",
    "normed_features1 = normalise(features1)\n",
    "#labels\n",
    "normed_features1 = transpose(normed_features1)\n",
    "#klasses = sort(unique(labels))\n",
    "#onehot_labels = onehotbatch(labels, klasses)\n",
    "\n",
    "\n",
    "# Split into training and test sets, 2/3 for training, 1/3 for test.\n",
    "\n",
    "x_train = normed_features1[1:4, 1:1250]\n",
    "y_test = predict(x_train)\n"
   ]
  }
 ],
 "metadata": {
  "kernelspec": {
   "display_name": "Julia 1.1.0",
   "language": "julia",
   "name": "julia-1.1"
  },
  "language_info": {
   "file_extension": ".jl",
   "mimetype": "application/julia",
   "name": "julia",
   "version": "1.1.0"
  }
 },
 "nbformat": 4,
 "nbformat_minor": 2
}
